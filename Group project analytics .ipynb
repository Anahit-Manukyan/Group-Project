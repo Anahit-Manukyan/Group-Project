{
 "cells": [
  {
   "cell_type": "code",
   "execution_count": 3,
   "id": "a7d2baa6",
   "metadata": {},
   "outputs": [
    {
     "data": {
      "text/html": [
       "        <script type=\"text/javascript\">\n",
       "        window.PlotlyConfig = {MathJaxConfig: 'local'};\n",
       "        if (window.MathJax) {MathJax.Hub.Config({SVG: {font: \"STIX-Web\"}});}\n",
       "        if (typeof require !== 'undefined') {\n",
       "        require.undef(\"plotly\");\n",
       "        requirejs.config({\n",
       "            paths: {\n",
       "                'plotly': ['https://cdn.plot.ly/plotly-2.2.0.min']\n",
       "            }\n",
       "        });\n",
       "        require(['plotly'], function(Plotly) {\n",
       "            window._Plotly = Plotly;\n",
       "        });\n",
       "        }\n",
       "        </script>\n",
       "        "
      ]
     },
     "metadata": {},
     "output_type": "display_data"
    }
   ],
   "source": [
    "import pandas as pd #for reading and working with data\n",
    "import matplotlib.pyplot as plt #for visuals\n",
    "import seaborn as sns #for visuals\n",
    "import numpy as np #for doing math/stat calculations, working with arrays\n",
    "\n",
    "# import quandl #for downloading data from Quandl website\n",
    "from pandas_datareader import data #for downloading data from Yahoo Finance website\n",
    "\n",
    "##plotly is for interactive plotting\n",
    "from plotly.offline import iplot\n",
    "from plotly.offline import init_notebook_mode\n",
    "import plotly.graph_objects as go #the basic charts that we will use are mainly stored under graph_objs\n",
    "init_notebook_mode(connected=True) #if we want the charts to be displayed in JN\n",
    "\n",
    "import datetime"
   ]
  },
  {
   "cell_type": "code",
   "execution_count": 4,
   "id": "7e93a0fc",
   "metadata": {},
   "outputs": [],
   "source": [
    "data = pd.read_excel(r\"C:\\Users\\User\\Desktop\\1.xlsx\")"
   ]
  },
  {
   "cell_type": "code",
   "execution_count": 5,
   "id": "8a7aa67d",
   "metadata": {},
   "outputs": [
    {
     "data": {
      "text/html": [
       "<div>\n",
       "<style scoped>\n",
       "    .dataframe tbody tr th:only-of-type {\n",
       "        vertical-align: middle;\n",
       "    }\n",
       "\n",
       "    .dataframe tbody tr th {\n",
       "        vertical-align: top;\n",
       "    }\n",
       "\n",
       "    .dataframe thead th {\n",
       "        text-align: right;\n",
       "    }\n",
       "</style>\n",
       "<table border=\"1\" class=\"dataframe\">\n",
       "  <thead>\n",
       "    <tr style=\"text-align: right;\">\n",
       "      <th></th>\n",
       "      <th>User Id</th>\n",
       "      <th>AGE</th>\n",
       "      <th>Gender</th>\n",
       "      <th>Date Registered</th>\n",
       "      <th>First Active Date</th>\n",
       "      <th>Days Last Played</th>\n",
       "      <th>Days Last Act</th>\n",
       "      <th>Avg Dep</th>\n",
       "      <th>Avg Ggr</th>\n",
       "      <th>New United Vip Status</th>\n",
       "      <th>...</th>\n",
       "      <th>2021avg_de</th>\n",
       "      <th>2020avg_ggr</th>\n",
       "      <th>2021avg_ggr</th>\n",
       "      <th>2020avg_ggr_count</th>\n",
       "      <th>2021avg_ggr_count</th>\n",
       "      <th>2020avg_de_count</th>\n",
       "      <th>2021avg_de_count</th>\n",
       "      <th>GGR_count</th>\n",
       "      <th>Dep Count</th>\n",
       "      <th>Churned</th>\n",
       "    </tr>\n",
       "  </thead>\n",
       "  <tbody>\n",
       "    <tr>\n",
       "      <th>0</th>\n",
       "      <td>1</td>\n",
       "      <td>51</td>\n",
       "      <td>Male</td>\n",
       "      <td>2020-01-01</td>\n",
       "      <td>2020-01-02</td>\n",
       "      <td>1</td>\n",
       "      <td>1</td>\n",
       "      <td>2269</td>\n",
       "      <td>626</td>\n",
       "      <td>Not_VIP</td>\n",
       "      <td>...</td>\n",
       "      <td>4835.4</td>\n",
       "      <td>434.166667</td>\n",
       "      <td>976.5</td>\n",
       "      <td>20.583333</td>\n",
       "      <td>16.3</td>\n",
       "      <td>19.583333</td>\n",
       "      <td>15.0</td>\n",
       "      <td>410.0</td>\n",
       "      <td>385.0</td>\n",
       "      <td>Yes</td>\n",
       "    </tr>\n",
       "    <tr>\n",
       "      <th>1</th>\n",
       "      <td>2</td>\n",
       "      <td>44</td>\n",
       "      <td>Female</td>\n",
       "      <td>2020-01-01</td>\n",
       "      <td>NaT</td>\n",
       "      <td>-1</td>\n",
       "      <td>-1</td>\n",
       "      <td>0</td>\n",
       "      <td>0</td>\n",
       "      <td>Not_VIP</td>\n",
       "      <td>...</td>\n",
       "      <td>NaN</td>\n",
       "      <td>NaN</td>\n",
       "      <td>NaN</td>\n",
       "      <td>NaN</td>\n",
       "      <td>NaN</td>\n",
       "      <td>NaN</td>\n",
       "      <td>NaN</td>\n",
       "      <td>NaN</td>\n",
       "      <td>NaN</td>\n",
       "      <td>Did not play</td>\n",
       "    </tr>\n",
       "    <tr>\n",
       "      <th>2</th>\n",
       "      <td>3</td>\n",
       "      <td>29</td>\n",
       "      <td>Male</td>\n",
       "      <td>2020-01-01</td>\n",
       "      <td>NaT</td>\n",
       "      <td>-1</td>\n",
       "      <td>-1</td>\n",
       "      <td>0</td>\n",
       "      <td>0</td>\n",
       "      <td>Not_VIP</td>\n",
       "      <td>...</td>\n",
       "      <td>NaN</td>\n",
       "      <td>NaN</td>\n",
       "      <td>NaN</td>\n",
       "      <td>NaN</td>\n",
       "      <td>NaN</td>\n",
       "      <td>NaN</td>\n",
       "      <td>NaN</td>\n",
       "      <td>NaN</td>\n",
       "      <td>NaN</td>\n",
       "      <td>Did not play</td>\n",
       "    </tr>\n",
       "    <tr>\n",
       "      <th>3</th>\n",
       "      <td>4</td>\n",
       "      <td>35</td>\n",
       "      <td>Male</td>\n",
       "      <td>2020-01-01</td>\n",
       "      <td>NaT</td>\n",
       "      <td>-1</td>\n",
       "      <td>-1</td>\n",
       "      <td>0</td>\n",
       "      <td>0</td>\n",
       "      <td>Not_VIP</td>\n",
       "      <td>...</td>\n",
       "      <td>NaN</td>\n",
       "      <td>NaN</td>\n",
       "      <td>NaN</td>\n",
       "      <td>NaN</td>\n",
       "      <td>NaN</td>\n",
       "      <td>NaN</td>\n",
       "      <td>NaN</td>\n",
       "      <td>NaN</td>\n",
       "      <td>NaN</td>\n",
       "      <td>Did not play</td>\n",
       "    </tr>\n",
       "  </tbody>\n",
       "</table>\n",
       "<p>4 rows × 23 columns</p>\n",
       "</div>"
      ],
      "text/plain": [
       "   User Id  AGE  Gender Date Registered First Active Date  Days Last Played  \\\n",
       "0        1   51    Male      2020-01-01        2020-01-02                 1   \n",
       "1        2   44  Female      2020-01-01               NaT                -1   \n",
       "2        3   29    Male      2020-01-01               NaT                -1   \n",
       "3        4   35    Male      2020-01-01               NaT                -1   \n",
       "\n",
       "   Days Last Act  Avg Dep  Avg Ggr New United Vip Status  ... 2021avg_de  \\\n",
       "0              1     2269      626               Not_VIP  ...     4835.4   \n",
       "1             -1        0        0               Not_VIP  ...        NaN   \n",
       "2             -1        0        0               Not_VIP  ...        NaN   \n",
       "3             -1        0        0               Not_VIP  ...        NaN   \n",
       "\n",
       "  2020avg_ggr  2021avg_ggr  2020avg_ggr_count  2021avg_ggr_count  \\\n",
       "0  434.166667        976.5          20.583333               16.3   \n",
       "1         NaN          NaN                NaN                NaN   \n",
       "2         NaN          NaN                NaN                NaN   \n",
       "3         NaN          NaN                NaN                NaN   \n",
       "\n",
       "   2020avg_de_count  2021avg_de_count  GGR_count  Dep Count       Churned  \n",
       "0         19.583333              15.0      410.0      385.0           Yes  \n",
       "1               NaN               NaN        NaN        NaN  Did not play  \n",
       "2               NaN               NaN        NaN        NaN  Did not play  \n",
       "3               NaN               NaN        NaN        NaN  Did not play  \n",
       "\n",
       "[4 rows x 23 columns]"
      ]
     },
     "execution_count": 5,
     "metadata": {},
     "output_type": "execute_result"
    }
   ],
   "source": [
    "data.head(4)"
   ]
  },
  {
   "cell_type": "code",
   "execution_count": 6,
   "id": "997866bb",
   "metadata": {},
   "outputs": [
    {
     "data": {
      "text/plain": [
       "(25471, 23)"
      ]
     },
     "execution_count": 6,
     "metadata": {},
     "output_type": "execute_result"
    }
   ],
   "source": [
    "data.shape"
   ]
  },
  {
   "cell_type": "markdown",
   "id": "e86b0a5b",
   "metadata": {},
   "source": [
    "The data has 23 columns initially and 25471 rows"
   ]
  },
  {
   "cell_type": "code",
   "execution_count": 9,
   "id": "6f02e1ab",
   "metadata": {},
   "outputs": [
    {
     "data": {
      "text/plain": [
       "Index(['User Id', 'AGE', 'Gender', 'Date Registered', 'First Active Date',\n",
       "       'Days Last Played', 'Days Last Act', 'Avg Dep', 'Avg Ggr',\n",
       "       'New United Vip Status', 'Self Blocked', 'Is Verified', '2020avg_de',\n",
       "       '2021avg_de', '2020avg_ggr', '2021avg_ggr', '2020avg_ggr_count',\n",
       "       '2021avg_ggr_count', '2020avg_de_count', '2021avg_de_count',\n",
       "       'GGR_count', 'Dep Count', 'Churned'],\n",
       "      dtype='object')"
      ]
     },
     "execution_count": 9,
     "metadata": {},
     "output_type": "execute_result"
    }
   ],
   "source": [
    "data.columns"
   ]
  },
  {
   "cell_type": "code",
   "execution_count": 10,
   "id": "566adf25",
   "metadata": {},
   "outputs": [
    {
     "name": "stdout",
     "output_type": "stream",
     "text": [
      "<class 'pandas.core.frame.DataFrame'>\n",
      "RangeIndex: 25471 entries, 0 to 25470\n",
      "Data columns (total 23 columns):\n",
      " #   Column                 Non-Null Count  Dtype         \n",
      "---  ------                 --------------  -----         \n",
      " 0   User Id                25471 non-null  int64         \n",
      " 1   AGE                    25471 non-null  int64         \n",
      " 2   Gender                 25471 non-null  object        \n",
      " 3   Date Registered        25471 non-null  datetime64[ns]\n",
      " 4   First Active Date      17459 non-null  datetime64[ns]\n",
      " 5   Days Last Played       25471 non-null  int64         \n",
      " 6   Days Last Act          25471 non-null  int64         \n",
      " 7   Avg Dep                25471 non-null  int64         \n",
      " 8   Avg Ggr                25471 non-null  int64         \n",
      " 9   New United Vip Status  25471 non-null  object        \n",
      " 10  Self Blocked           25471 non-null  object        \n",
      " 11  Is Verified            25471 non-null  object        \n",
      " 12  2020avg_de             8879 non-null   float64       \n",
      " 13  2021avg_de             15303 non-null  float64       \n",
      " 14  2020avg_ggr            8879 non-null   float64       \n",
      " 15  2021avg_ggr            15303 non-null  float64       \n",
      " 16  2020avg_ggr_count      8879 non-null   float64       \n",
      " 17  2021avg_ggr_count      15303 non-null  float64       \n",
      " 18  2020avg_de_count       8879 non-null   float64       \n",
      " 19  2021avg_de_count       15303 non-null  float64       \n",
      " 20  GGR_count              17459 non-null  float64       \n",
      " 21  Dep Count              17459 non-null  float64       \n",
      " 22  Churned                25471 non-null  object        \n",
      "dtypes: datetime64[ns](2), float64(10), int64(6), object(5)\n",
      "memory usage: 4.5+ MB\n"
     ]
    }
   ],
   "source": [
    "data.info()"
   ]
  },
  {
   "cell_type": "code",
   "execution_count": 11,
   "id": "f6e4287f",
   "metadata": {},
   "outputs": [
    {
     "data": {
      "text/plain": [
       "User Id                      0\n",
       "AGE                          0\n",
       "Gender                       0\n",
       "Date Registered              0\n",
       "First Active Date         8012\n",
       "Days Last Played             0\n",
       "Days Last Act                0\n",
       "Avg Dep                      0\n",
       "Avg Ggr                      0\n",
       "New United Vip Status        0\n",
       "Self Blocked                 0\n",
       "Is Verified                  0\n",
       "2020avg_de               16592\n",
       "2021avg_de               10168\n",
       "2020avg_ggr              16592\n",
       "2021avg_ggr              10168\n",
       "2020avg_ggr_count        16592\n",
       "2021avg_ggr_count        10168\n",
       "2020avg_de_count         16592\n",
       "2021avg_de_count         10168\n",
       "GGR_count                 8012\n",
       "Dep Count                 8012\n",
       "Churned                      0\n",
       "dtype: int64"
      ]
     },
     "execution_count": 11,
     "metadata": {},
     "output_type": "execute_result"
    }
   ],
   "source": [
    "data.isna().sum()"
   ]
  },
  {
   "cell_type": "markdown",
   "id": "1174503c",
   "metadata": {},
   "source": [
    "As we can see, some of the variables are missing (nulls). Let's understand the cases and find out how to work with them. "
   ]
  },
  {
   "cell_type": "code",
   "execution_count": 12,
   "id": "9b25899f",
   "metadata": {},
   "outputs": [
    {
     "data": {
      "text/html": [
       "<div>\n",
       "<style scoped>\n",
       "    .dataframe tbody tr th:only-of-type {\n",
       "        vertical-align: middle;\n",
       "    }\n",
       "\n",
       "    .dataframe tbody tr th {\n",
       "        vertical-align: top;\n",
       "    }\n",
       "\n",
       "    .dataframe thead th {\n",
       "        text-align: right;\n",
       "    }\n",
       "</style>\n",
       "<table border=\"1\" class=\"dataframe\">\n",
       "  <thead>\n",
       "    <tr style=\"text-align: right;\">\n",
       "      <th></th>\n",
       "      <th>User Id</th>\n",
       "      <th>AGE</th>\n",
       "      <th>Days Last Played</th>\n",
       "      <th>Days Last Act</th>\n",
       "      <th>Avg Dep</th>\n",
       "      <th>Avg Ggr</th>\n",
       "      <th>2020avg_de</th>\n",
       "      <th>2021avg_de</th>\n",
       "      <th>2020avg_ggr</th>\n",
       "      <th>2021avg_ggr</th>\n",
       "      <th>2020avg_ggr_count</th>\n",
       "      <th>2021avg_ggr_count</th>\n",
       "      <th>2020avg_de_count</th>\n",
       "      <th>2021avg_de_count</th>\n",
       "      <th>GGR_count</th>\n",
       "      <th>Dep Count</th>\n",
       "    </tr>\n",
       "  </thead>\n",
       "  <tbody>\n",
       "    <tr>\n",
       "      <th>count</th>\n",
       "      <td>25471.000000</td>\n",
       "      <td>25471.000000</td>\n",
       "      <td>25471.000000</td>\n",
       "      <td>25471.000000</td>\n",
       "      <td>25471.000000</td>\n",
       "      <td>25471.000000</td>\n",
       "      <td>8879.000000</td>\n",
       "      <td>15303.000000</td>\n",
       "      <td>8879.000000</td>\n",
       "      <td>15303.000000</td>\n",
       "      <td>8879.000000</td>\n",
       "      <td>15303.000000</td>\n",
       "      <td>8879.000000</td>\n",
       "      <td>15303.000000</td>\n",
       "      <td>17459.000000</td>\n",
       "      <td>17459.000000</td>\n",
       "    </tr>\n",
       "    <tr>\n",
       "      <th>mean</th>\n",
       "      <td>12736.000000</td>\n",
       "      <td>35.720545</td>\n",
       "      <td>74.219151</td>\n",
       "      <td>72.628165</td>\n",
       "      <td>306.274312</td>\n",
       "      <td>67.031644</td>\n",
       "      <td>282.194883</td>\n",
       "      <td>396.772332</td>\n",
       "      <td>86.145735</td>\n",
       "      <td>89.724246</td>\n",
       "      <td>6.956720</td>\n",
       "      <td>8.026192</td>\n",
       "      <td>5.279575</td>\n",
       "      <td>6.296705</td>\n",
       "      <td>72.559883</td>\n",
       "      <td>56.403059</td>\n",
       "    </tr>\n",
       "    <tr>\n",
       "      <th>std</th>\n",
       "      <td>7352.988689</td>\n",
       "      <td>11.998990</td>\n",
       "      <td>148.491551</td>\n",
       "      <td>146.626239</td>\n",
       "      <td>2708.403635</td>\n",
       "      <td>765.375709</td>\n",
       "      <td>1926.499181</td>\n",
       "      <td>2916.451448</td>\n",
       "      <td>811.801837</td>\n",
       "      <td>1044.848029</td>\n",
       "      <td>5.885229</td>\n",
       "      <td>6.106622</td>\n",
       "      <td>5.432433</td>\n",
       "      <td>5.896991</td>\n",
       "      <td>90.281001</td>\n",
       "      <td>80.210066</td>\n",
       "    </tr>\n",
       "    <tr>\n",
       "      <th>min</th>\n",
       "      <td>1.000000</td>\n",
       "      <td>-1.000000</td>\n",
       "      <td>-1.000000</td>\n",
       "      <td>-1.000000</td>\n",
       "      <td>0.000000</td>\n",
       "      <td>-29662.000000</td>\n",
       "      <td>0.000000</td>\n",
       "      <td>0.000000</td>\n",
       "      <td>-24718.333333</td>\n",
       "      <td>-19085.800000</td>\n",
       "      <td>1.000000</td>\n",
       "      <td>1.000000</td>\n",
       "      <td>1.000000</td>\n",
       "      <td>1.000000</td>\n",
       "      <td>1.000000</td>\n",
       "      <td>1.000000</td>\n",
       "    </tr>\n",
       "    <tr>\n",
       "      <th>25%</th>\n",
       "      <td>6368.500000</td>\n",
       "      <td>26.000000</td>\n",
       "      <td>-1.000000</td>\n",
       "      <td>-1.000000</td>\n",
       "      <td>0.000000</td>\n",
       "      <td>0.000000</td>\n",
       "      <td>6.500000</td>\n",
       "      <td>6.000000</td>\n",
       "      <td>2.500000</td>\n",
       "      <td>0.500000</td>\n",
       "      <td>2.400000</td>\n",
       "      <td>3.333333</td>\n",
       "      <td>1.500000</td>\n",
       "      <td>1.714286</td>\n",
       "      <td>9.000000</td>\n",
       "      <td>6.000000</td>\n",
       "    </tr>\n",
       "    <tr>\n",
       "      <th>50%</th>\n",
       "      <td>12736.000000</td>\n",
       "      <td>33.000000</td>\n",
       "      <td>2.000000</td>\n",
       "      <td>2.000000</td>\n",
       "      <td>13.000000</td>\n",
       "      <td>2.000000</td>\n",
       "      <td>29.500000</td>\n",
       "      <td>39.000000</td>\n",
       "      <td>13.000000</td>\n",
       "      <td>10.000000</td>\n",
       "      <td>5.000000</td>\n",
       "      <td>6.250000</td>\n",
       "      <td>3.000000</td>\n",
       "      <td>4.000000</td>\n",
       "      <td>38.000000</td>\n",
       "      <td>22.000000</td>\n",
       "    </tr>\n",
       "    <tr>\n",
       "      <th>75%</th>\n",
       "      <td>19103.500000</td>\n",
       "      <td>42.000000</td>\n",
       "      <td>60.000000</td>\n",
       "      <td>57.000000</td>\n",
       "      <td>103.000000</td>\n",
       "      <td>32.000000</td>\n",
       "      <td>117.267857</td>\n",
       "      <td>187.950000</td>\n",
       "      <td>48.666667</td>\n",
       "      <td>53.000000</td>\n",
       "      <td>9.763889</td>\n",
       "      <td>11.454545</td>\n",
       "      <td>7.000000</td>\n",
       "      <td>9.181818</td>\n",
       "      <td>101.000000</td>\n",
       "      <td>74.000000</td>\n",
       "    </tr>\n",
       "    <tr>\n",
       "      <th>max</th>\n",
       "      <td>25471.000000</td>\n",
       "      <td>248.000000</td>\n",
       "      <td>680.000000</td>\n",
       "      <td>680.000000</td>\n",
       "      <td>227270.000000</td>\n",
       "      <td>42160.000000</td>\n",
       "      <td>129491.363636</td>\n",
       "      <td>160736.727273</td>\n",
       "      <td>56461.727273</td>\n",
       "      <td>100489.727273</td>\n",
       "      <td>30.666667</td>\n",
       "      <td>28.545455</td>\n",
       "      <td>30.666667</td>\n",
       "      <td>28.272727</td>\n",
       "      <td>630.000000</td>\n",
       "      <td>625.000000</td>\n",
       "    </tr>\n",
       "  </tbody>\n",
       "</table>\n",
       "</div>"
      ],
      "text/plain": [
       "            User Id           AGE  Days Last Played  Days Last Act  \\\n",
       "count  25471.000000  25471.000000      25471.000000   25471.000000   \n",
       "mean   12736.000000     35.720545         74.219151      72.628165   \n",
       "std     7352.988689     11.998990        148.491551     146.626239   \n",
       "min        1.000000     -1.000000         -1.000000      -1.000000   \n",
       "25%     6368.500000     26.000000         -1.000000      -1.000000   \n",
       "50%    12736.000000     33.000000          2.000000       2.000000   \n",
       "75%    19103.500000     42.000000         60.000000      57.000000   \n",
       "max    25471.000000    248.000000        680.000000     680.000000   \n",
       "\n",
       "             Avg Dep       Avg Ggr     2020avg_de     2021avg_de  \\\n",
       "count   25471.000000  25471.000000    8879.000000   15303.000000   \n",
       "mean      306.274312     67.031644     282.194883     396.772332   \n",
       "std      2708.403635    765.375709    1926.499181    2916.451448   \n",
       "min         0.000000 -29662.000000       0.000000       0.000000   \n",
       "25%         0.000000      0.000000       6.500000       6.000000   \n",
       "50%        13.000000      2.000000      29.500000      39.000000   \n",
       "75%       103.000000     32.000000     117.267857     187.950000   \n",
       "max    227270.000000  42160.000000  129491.363636  160736.727273   \n",
       "\n",
       "        2020avg_ggr    2021avg_ggr  2020avg_ggr_count  2021avg_ggr_count  \\\n",
       "count   8879.000000   15303.000000        8879.000000       15303.000000   \n",
       "mean      86.145735      89.724246           6.956720           8.026192   \n",
       "std      811.801837    1044.848029           5.885229           6.106622   \n",
       "min   -24718.333333  -19085.800000           1.000000           1.000000   \n",
       "25%        2.500000       0.500000           2.400000           3.333333   \n",
       "50%       13.000000      10.000000           5.000000           6.250000   \n",
       "75%       48.666667      53.000000           9.763889          11.454545   \n",
       "max    56461.727273  100489.727273          30.666667          28.545455   \n",
       "\n",
       "       2020avg_de_count  2021avg_de_count     GGR_count     Dep Count  \n",
       "count       8879.000000      15303.000000  17459.000000  17459.000000  \n",
       "mean           5.279575          6.296705     72.559883     56.403059  \n",
       "std            5.432433          5.896991     90.281001     80.210066  \n",
       "min            1.000000          1.000000      1.000000      1.000000  \n",
       "25%            1.500000          1.714286      9.000000      6.000000  \n",
       "50%            3.000000          4.000000     38.000000     22.000000  \n",
       "75%            7.000000          9.181818    101.000000     74.000000  \n",
       "max           30.666667         28.272727    630.000000    625.000000  "
      ]
     },
     "execution_count": 12,
     "metadata": {},
     "output_type": "execute_result"
    }
   ],
   "source": [
    "data.describe()"
   ]
  },
  {
   "cell_type": "code",
   "execution_count": 116,
   "id": "09a87d22",
   "metadata": {},
   "outputs": [
    {
     "name": "stdout",
     "output_type": "stream",
     "text": [
      "Duplicates: 0\n"
     ]
    }
   ],
   "source": [
    "print('Duplicates:', data.duplicated().sum())"
   ]
  },
  {
   "cell_type": "markdown",
   "id": "68514ec2",
   "metadata": {},
   "source": [
    "The data does not contain any duplicates, means, we can start working with them "
   ]
  },
  {
   "cell_type": "code",
   "execution_count": 117,
   "id": "067db029",
   "metadata": {},
   "outputs": [
    {
     "data": {
      "text/html": [
       "<div>\n",
       "<style scoped>\n",
       "    .dataframe tbody tr th:only-of-type {\n",
       "        vertical-align: middle;\n",
       "    }\n",
       "\n",
       "    .dataframe tbody tr th {\n",
       "        vertical-align: top;\n",
       "    }\n",
       "\n",
       "    .dataframe thead th {\n",
       "        text-align: right;\n",
       "    }\n",
       "</style>\n",
       "<table border=\"1\" class=\"dataframe\">\n",
       "  <thead>\n",
       "    <tr style=\"text-align: right;\">\n",
       "      <th></th>\n",
       "      <th>User Id</th>\n",
       "      <th>AGE</th>\n",
       "      <th>Gender</th>\n",
       "      <th>Date Registered</th>\n",
       "      <th>First Active Date</th>\n",
       "      <th>Days Last Played</th>\n",
       "      <th>Days Last Act</th>\n",
       "      <th>Avg Dep</th>\n",
       "      <th>Avg Ggr</th>\n",
       "      <th>New United Vip Status</th>\n",
       "      <th>...</th>\n",
       "      <th>2021avg_de</th>\n",
       "      <th>2020avg_ggr</th>\n",
       "      <th>2021avg_ggr</th>\n",
       "      <th>2020avg_ggr_count</th>\n",
       "      <th>2021avg_ggr_count</th>\n",
       "      <th>2020avg_de_count</th>\n",
       "      <th>2021avg_de_count</th>\n",
       "      <th>GGR_count</th>\n",
       "      <th>Dep Count</th>\n",
       "      <th>Churned</th>\n",
       "    </tr>\n",
       "  </thead>\n",
       "  <tbody>\n",
       "  </tbody>\n",
       "</table>\n",
       "<p>0 rows × 23 columns</p>\n",
       "</div>"
      ],
      "text/plain": [
       "Empty DataFrame\n",
       "Columns: [User Id, AGE, Gender, Date Registered, First Active Date, Days Last Played, Days Last Act, Avg Dep, Avg Ggr, New United Vip Status, Self Blocked, Is Verified, 2020avg_de, 2021avg_de, 2020avg_ggr, 2021avg_ggr, 2020avg_ggr_count, 2021avg_ggr_count, 2020avg_de_count, 2021avg_de_count, GGR_count, Dep Count, Churned]\n",
       "Index: []\n",
       "\n",
       "[0 rows x 23 columns]"
      ]
     },
     "execution_count": 117,
     "metadata": {},
     "output_type": "execute_result"
    }
   ],
   "source": [
    "data[data[\"User Id\"].isna()]"
   ]
  },
  {
   "cell_type": "code",
   "execution_count": 118,
   "id": "70ff56fb",
   "metadata": {},
   "outputs": [
    {
     "data": {
      "text/plain": [
       "0"
      ]
     },
     "execution_count": 118,
     "metadata": {},
     "output_type": "execute_result"
    }
   ],
   "source": [
    "data.duplicated([\"User Id\"]).sum()"
   ]
  },
  {
   "cell_type": "markdown",
   "id": "b160be59",
   "metadata": {},
   "source": [
    "Also, most importantly, no User ID is null, so we do not need to drop it. Also, there are no duplicate User IDs. "
   ]
  },
  {
   "cell_type": "code",
   "execution_count": 119,
   "id": "c6a44764",
   "metadata": {},
   "outputs": [
    {
     "data": {
      "text/plain": [
       "User Id                      0\n",
       "AGE                          0\n",
       "Gender                       0\n",
       "Date Registered              0\n",
       "First Active Date         8012\n",
       "Days Last Played             0\n",
       "Days Last Act                0\n",
       "Avg Dep                      0\n",
       "Avg Ggr                      0\n",
       "New United Vip Status        0\n",
       "Self Blocked                 0\n",
       "Is Verified                  0\n",
       "2020avg_de               16592\n",
       "2021avg_de               10168\n",
       "2020avg_ggr              16592\n",
       "2021avg_ggr              10168\n",
       "2020avg_ggr_count        16592\n",
       "2021avg_ggr_count        10168\n",
       "2020avg_de_count         16592\n",
       "2021avg_de_count         10168\n",
       "GGR_count                 8012\n",
       "Dep Count                 8012\n",
       "Churned                      0\n",
       "dtype: int64"
      ]
     },
     "execution_count": 119,
     "metadata": {},
     "output_type": "execute_result"
    }
   ],
   "source": [
    "data.isna().sum()"
   ]
  },
  {
   "cell_type": "markdown",
   "id": "bcfffc90",
   "metadata": {},
   "source": [
    "By the company's definition, if we do not have an \"active date\", means the user did not play. They may have made some small deposits or have checked how the website works, but they never played. A date is considered to be an active, if a user has played at least once. As a result, we are dropping all the rows, where the active date is null (NaN). We cannot assume if they are going to play or not in the future. "
   ]
  },
  {
   "cell_type": "markdown",
   "id": "66d8e7a8",
   "metadata": {},
   "source": [
    "  "
   ]
  },
  {
   "cell_type": "markdown",
   "id": "ea786518",
   "metadata": {},
   "source": [
    "## Let's start the data cleaning"
   ]
  },
  {
   "cell_type": "code",
   "execution_count": 120,
   "id": "51acaf42",
   "metadata": {},
   "outputs": [],
   "source": [
    "data = data[data['First Active Date'].notna()]"
   ]
  },
  {
   "cell_type": "markdown",
   "id": "abc65a41",
   "metadata": {},
   "source": [
    "We dropped all the non-ative users"
   ]
  },
  {
   "cell_type": "code",
   "execution_count": 121,
   "id": "e6a76647",
   "metadata": {},
   "outputs": [
    {
     "data": {
      "text/plain": [
       "User Id                     0\n",
       "AGE                         0\n",
       "Gender                      0\n",
       "Date Registered             0\n",
       "First Active Date           0\n",
       "Days Last Played            0\n",
       "Days Last Act               0\n",
       "Avg Dep                     0\n",
       "Avg Ggr                     0\n",
       "New United Vip Status       0\n",
       "Self Blocked                0\n",
       "Is Verified                 0\n",
       "2020avg_de               8580\n",
       "2021avg_de               2156\n",
       "2020avg_ggr              8580\n",
       "2021avg_ggr              2156\n",
       "2020avg_ggr_count        8580\n",
       "2021avg_ggr_count        2156\n",
       "2020avg_de_count         8580\n",
       "2021avg_de_count         2156\n",
       "GGR_count                   0\n",
       "Dep Count                   0\n",
       "Churned                     0\n",
       "dtype: int64"
      ]
     },
     "execution_count": 121,
     "metadata": {},
     "output_type": "execute_result"
    }
   ],
   "source": [
    "data.isna().sum()"
   ]
  },
  {
   "cell_type": "markdown",
   "id": "ce6b8a93",
   "metadata": {},
   "source": [
    "As we can see, a lot of null values have been dropped after this step on other variables. Let's understand how to treat them.  "
   ]
  },
  {
   "cell_type": "code",
   "execution_count": 122,
   "id": "b0b1a4ae",
   "metadata": {},
   "outputs": [
    {
     "data": {
      "text/plain": [
       "(17459, 23)"
      ]
     },
     "execution_count": 122,
     "metadata": {},
     "output_type": "execute_result"
    }
   ],
   "source": [
    "data.shape"
   ]
  },
  {
   "cell_type": "code",
   "execution_count": 123,
   "id": "dc987fa8",
   "metadata": {},
   "outputs": [],
   "source": [
    "data = data.replace(np.nan, 0)"
   ]
  },
  {
   "cell_type": "code",
   "execution_count": 124,
   "id": "c9530405",
   "metadata": {},
   "outputs": [
    {
     "data": {
      "text/html": [
       "<div>\n",
       "<style scoped>\n",
       "    .dataframe tbody tr th:only-of-type {\n",
       "        vertical-align: middle;\n",
       "    }\n",
       "\n",
       "    .dataframe tbody tr th {\n",
       "        vertical-align: top;\n",
       "    }\n",
       "\n",
       "    .dataframe thead th {\n",
       "        text-align: right;\n",
       "    }\n",
       "</style>\n",
       "<table border=\"1\" class=\"dataframe\">\n",
       "  <thead>\n",
       "    <tr style=\"text-align: right;\">\n",
       "      <th></th>\n",
       "      <th>User Id</th>\n",
       "      <th>AGE</th>\n",
       "      <th>Gender</th>\n",
       "      <th>Date Registered</th>\n",
       "      <th>First Active Date</th>\n",
       "      <th>Days Last Played</th>\n",
       "      <th>Days Last Act</th>\n",
       "      <th>Avg Dep</th>\n",
       "      <th>Avg Ggr</th>\n",
       "      <th>New United Vip Status</th>\n",
       "      <th>...</th>\n",
       "      <th>2021avg_de</th>\n",
       "      <th>2020avg_ggr</th>\n",
       "      <th>2021avg_ggr</th>\n",
       "      <th>2020avg_ggr_count</th>\n",
       "      <th>2021avg_ggr_count</th>\n",
       "      <th>2020avg_de_count</th>\n",
       "      <th>2021avg_de_count</th>\n",
       "      <th>GGR_count</th>\n",
       "      <th>Dep Count</th>\n",
       "      <th>Churned</th>\n",
       "    </tr>\n",
       "  </thead>\n",
       "  <tbody>\n",
       "    <tr>\n",
       "      <th>0</th>\n",
       "      <td>1</td>\n",
       "      <td>51</td>\n",
       "      <td>Male</td>\n",
       "      <td>2020-01-01</td>\n",
       "      <td>2020-01-02</td>\n",
       "      <td>1</td>\n",
       "      <td>1</td>\n",
       "      <td>2269</td>\n",
       "      <td>626</td>\n",
       "      <td>Not_VIP</td>\n",
       "      <td>...</td>\n",
       "      <td>4835.4</td>\n",
       "      <td>434.166667</td>\n",
       "      <td>976.5</td>\n",
       "      <td>20.583333</td>\n",
       "      <td>16.30</td>\n",
       "      <td>19.583333</td>\n",
       "      <td>15.0</td>\n",
       "      <td>410.0</td>\n",
       "      <td>385.0</td>\n",
       "      <td>Yes</td>\n",
       "    </tr>\n",
       "    <tr>\n",
       "      <th>4</th>\n",
       "      <td>5</td>\n",
       "      <td>25</td>\n",
       "      <td>Female</td>\n",
       "      <td>2020-01-01</td>\n",
       "      <td>2020-02-03</td>\n",
       "      <td>75</td>\n",
       "      <td>75</td>\n",
       "      <td>24</td>\n",
       "      <td>48</td>\n",
       "      <td>Not_VIP</td>\n",
       "      <td>...</td>\n",
       "      <td>0.0</td>\n",
       "      <td>24.000000</td>\n",
       "      <td>0.0</td>\n",
       "      <td>1.500000</td>\n",
       "      <td>1.25</td>\n",
       "      <td>1.500000</td>\n",
       "      <td>1.0</td>\n",
       "      <td>8.0</td>\n",
       "      <td>7.0</td>\n",
       "      <td>No</td>\n",
       "    </tr>\n",
       "  </tbody>\n",
       "</table>\n",
       "<p>2 rows × 23 columns</p>\n",
       "</div>"
      ],
      "text/plain": [
       "   User Id  AGE  Gender Date Registered First Active Date  Days Last Played  \\\n",
       "0        1   51    Male      2020-01-01        2020-01-02                 1   \n",
       "4        5   25  Female      2020-01-01        2020-02-03                75   \n",
       "\n",
       "   Days Last Act  Avg Dep  Avg Ggr New United Vip Status  ... 2021avg_de  \\\n",
       "0              1     2269      626               Not_VIP  ...     4835.4   \n",
       "4             75       24       48               Not_VIP  ...        0.0   \n",
       "\n",
       "  2020avg_ggr  2021avg_ggr  2020avg_ggr_count  2021avg_ggr_count  \\\n",
       "0  434.166667        976.5          20.583333              16.30   \n",
       "4   24.000000          0.0           1.500000               1.25   \n",
       "\n",
       "   2020avg_de_count  2021avg_de_count  GGR_count  Dep Count  Churned  \n",
       "0         19.583333              15.0      410.0      385.0      Yes  \n",
       "4          1.500000               1.0        8.0        7.0       No  \n",
       "\n",
       "[2 rows x 23 columns]"
      ]
     },
     "execution_count": 124,
     "metadata": {},
     "output_type": "execute_result"
    }
   ],
   "source": [
    "data.head(2)"
   ]
  },
  {
   "cell_type": "code",
   "execution_count": 38,
   "id": "1f6bc06e",
   "metadata": {},
   "outputs": [
    {
     "data": {
      "text/plain": [
       "User Id                  0\n",
       "AGE                      0\n",
       "Gender                   0\n",
       "Date Registered          0\n",
       "First Active Date        0\n",
       "Days Last Played         0\n",
       "Days Last Act            0\n",
       "Avg Dep                  0\n",
       "Avg Ggr                  0\n",
       "New United Vip Status    0\n",
       "Self Blocked             0\n",
       "Is Verified              0\n",
       "2020avg_de               0\n",
       "2021avg_de               0\n",
       "2020avg_ggr              0\n",
       "2021avg_ggr              0\n",
       "2020avg_ggr_count        0\n",
       "2021avg_ggr_count        0\n",
       "2020avg_de_count         0\n",
       "2021avg_de_count         0\n",
       "GGR_count                0\n",
       "Dep Count                0\n",
       "Churned                  0\n",
       "dtype: int64"
      ]
     },
     "execution_count": 38,
     "metadata": {},
     "output_type": "execute_result"
    }
   ],
   "source": [
    "data.isna().sum()"
   ]
  },
  {
   "cell_type": "markdown",
   "id": "070e137b",
   "metadata": {},
   "source": [
    "As cutomer did not have any deposits or GGR, we transfer NA's to 0s. This can be the case, if he/she did not play in one year and played in another. Also, this can be the reason with the newly registered customers, who registered in 2021, and logically, did not play in 2020. "
   ]
  },
  {
   "cell_type": "code",
   "execution_count": 39,
   "id": "b27504f0",
   "metadata": {},
   "outputs": [],
   "source": [
    "data[\"lifetime\"] = datetime.datetime(2021, 11, 16) - data[\"Date Registered\"]"
   ]
  },
  {
   "cell_type": "code",
   "execution_count": 40,
   "id": "984af86d",
   "metadata": {},
   "outputs": [
    {
     "data": {
      "text/plain": [
       "0       685 days\n",
       "4       685 days\n",
       "5       685 days\n",
       "7       685 days\n",
       "8       685 days\n",
       "          ...   \n",
       "25460     8 days\n",
       "25461     8 days\n",
       "25468     7 days\n",
       "25469     7 days\n",
       "25470     7 days\n",
       "Name: lifetime, Length: 17459, dtype: timedelta64[ns]"
      ]
     },
     "execution_count": 40,
     "metadata": {},
     "output_type": "execute_result"
    }
   ],
   "source": [
    "data['lifetime']"
   ]
  },
  {
   "cell_type": "code",
   "execution_count": 41,
   "id": "ca66ba1e",
   "metadata": {},
   "outputs": [],
   "source": [
    "data[\"player_win_lose\"] = np.where(data[\"Avg Ggr\"] >= 0, 1, 0) "
   ]
  },
  {
   "cell_type": "code",
   "execution_count": 42,
   "id": "4522a3e8",
   "metadata": {},
   "outputs": [
    {
     "data": {
      "text/html": [
       "<div>\n",
       "<style scoped>\n",
       "    .dataframe tbody tr th:only-of-type {\n",
       "        vertical-align: middle;\n",
       "    }\n",
       "\n",
       "    .dataframe tbody tr th {\n",
       "        vertical-align: top;\n",
       "    }\n",
       "\n",
       "    .dataframe thead th {\n",
       "        text-align: right;\n",
       "    }\n",
       "</style>\n",
       "<table border=\"1\" class=\"dataframe\">\n",
       "  <thead>\n",
       "    <tr style=\"text-align: right;\">\n",
       "      <th></th>\n",
       "      <th>User Id</th>\n",
       "      <th>AGE</th>\n",
       "      <th>Gender</th>\n",
       "      <th>Date Registered</th>\n",
       "      <th>First Active Date</th>\n",
       "      <th>Days Last Played</th>\n",
       "      <th>Days Last Act</th>\n",
       "      <th>Avg Dep</th>\n",
       "      <th>Avg Ggr</th>\n",
       "      <th>New United Vip Status</th>\n",
       "      <th>...</th>\n",
       "      <th>2021avg_ggr</th>\n",
       "      <th>2020avg_ggr_count</th>\n",
       "      <th>2021avg_ggr_count</th>\n",
       "      <th>2020avg_de_count</th>\n",
       "      <th>2021avg_de_count</th>\n",
       "      <th>GGR_count</th>\n",
       "      <th>Dep Count</th>\n",
       "      <th>Churned</th>\n",
       "      <th>lifetime</th>\n",
       "      <th>player_win_lose</th>\n",
       "    </tr>\n",
       "  </thead>\n",
       "  <tbody>\n",
       "    <tr>\n",
       "      <th>0</th>\n",
       "      <td>1</td>\n",
       "      <td>51</td>\n",
       "      <td>Male</td>\n",
       "      <td>2020-01-01</td>\n",
       "      <td>2020-01-02</td>\n",
       "      <td>1</td>\n",
       "      <td>1</td>\n",
       "      <td>2269</td>\n",
       "      <td>626</td>\n",
       "      <td>Not_VIP</td>\n",
       "      <td>...</td>\n",
       "      <td>976.500000</td>\n",
       "      <td>20.583333</td>\n",
       "      <td>16.30</td>\n",
       "      <td>19.583333</td>\n",
       "      <td>15.000000</td>\n",
       "      <td>410.0</td>\n",
       "      <td>385.0</td>\n",
       "      <td>Yes</td>\n",
       "      <td>685 days</td>\n",
       "      <td>1</td>\n",
       "    </tr>\n",
       "    <tr>\n",
       "      <th>4</th>\n",
       "      <td>5</td>\n",
       "      <td>25</td>\n",
       "      <td>Female</td>\n",
       "      <td>2020-01-01</td>\n",
       "      <td>2020-02-03</td>\n",
       "      <td>75</td>\n",
       "      <td>75</td>\n",
       "      <td>24</td>\n",
       "      <td>48</td>\n",
       "      <td>Not_VIP</td>\n",
       "      <td>...</td>\n",
       "      <td>0.000000</td>\n",
       "      <td>1.500000</td>\n",
       "      <td>1.25</td>\n",
       "      <td>1.500000</td>\n",
       "      <td>1.000000</td>\n",
       "      <td>8.0</td>\n",
       "      <td>7.0</td>\n",
       "      <td>No</td>\n",
       "      <td>685 days</td>\n",
       "      <td>1</td>\n",
       "    </tr>\n",
       "    <tr>\n",
       "      <th>5</th>\n",
       "      <td>6</td>\n",
       "      <td>23</td>\n",
       "      <td>Male</td>\n",
       "      <td>2020-01-01</td>\n",
       "      <td>2020-01-01</td>\n",
       "      <td>4</td>\n",
       "      <td>4</td>\n",
       "      <td>66</td>\n",
       "      <td>27</td>\n",
       "      <td>Not_VIP</td>\n",
       "      <td>...</td>\n",
       "      <td>7.833333</td>\n",
       "      <td>5.625000</td>\n",
       "      <td>8.50</td>\n",
       "      <td>1.875000</td>\n",
       "      <td>6.833333</td>\n",
       "      <td>96.0</td>\n",
       "      <td>56.0</td>\n",
       "      <td>Yes</td>\n",
       "      <td>685 days</td>\n",
       "      <td>1</td>\n",
       "    </tr>\n",
       "  </tbody>\n",
       "</table>\n",
       "<p>3 rows × 25 columns</p>\n",
       "</div>"
      ],
      "text/plain": [
       "   User Id  AGE  Gender Date Registered First Active Date  Days Last Played  \\\n",
       "0        1   51    Male      2020-01-01        2020-01-02                 1   \n",
       "4        5   25  Female      2020-01-01        2020-02-03                75   \n",
       "5        6   23    Male      2020-01-01        2020-01-01                 4   \n",
       "\n",
       "   Days Last Act  Avg Dep  Avg Ggr New United Vip Status  ... 2021avg_ggr  \\\n",
       "0              1     2269      626               Not_VIP  ...  976.500000   \n",
       "4             75       24       48               Not_VIP  ...    0.000000   \n",
       "5              4       66       27               Not_VIP  ...    7.833333   \n",
       "\n",
       "  2020avg_ggr_count  2021avg_ggr_count  2020avg_de_count  2021avg_de_count  \\\n",
       "0         20.583333              16.30         19.583333         15.000000   \n",
       "4          1.500000               1.25          1.500000          1.000000   \n",
       "5          5.625000               8.50          1.875000          6.833333   \n",
       "\n",
       "   GGR_count  Dep Count  Churned  lifetime  player_win_lose  \n",
       "0      410.0      385.0      Yes  685 days                1  \n",
       "4        8.0        7.0       No  685 days                1  \n",
       "5       96.0       56.0      Yes  685 days                1  \n",
       "\n",
       "[3 rows x 25 columns]"
      ]
     },
     "execution_count": 42,
     "metadata": {},
     "output_type": "execute_result"
    }
   ],
   "source": [
    "data.head(3)"
   ]
  },
  {
   "cell_type": "code",
   "execution_count": 43,
   "id": "5383ef7e",
   "metadata": {},
   "outputs": [
    {
     "data": {
      "text/plain": [
       "User Id                  0\n",
       "AGE                      0\n",
       "Gender                   0\n",
       "Date Registered          0\n",
       "First Active Date        0\n",
       "Days Last Played         0\n",
       "Days Last Act            0\n",
       "Avg Dep                  0\n",
       "Avg Ggr                  0\n",
       "New United Vip Status    0\n",
       "Self Blocked             0\n",
       "Is Verified              0\n",
       "2020avg_de               0\n",
       "2021avg_de               0\n",
       "2020avg_ggr              0\n",
       "2021avg_ggr              0\n",
       "2020avg_ggr_count        0\n",
       "2021avg_ggr_count        0\n",
       "2020avg_de_count         0\n",
       "2021avg_de_count         0\n",
       "GGR_count                0\n",
       "Dep Count                0\n",
       "Churned                  0\n",
       "lifetime                 0\n",
       "player_win_lose          0\n",
       "dtype: int64"
      ]
     },
     "execution_count": 43,
     "metadata": {},
     "output_type": "execute_result"
    }
   ],
   "source": [
    "data.isna().sum()"
   ]
  },
  {
   "cell_type": "code",
   "execution_count": 44,
   "id": "66eeff28",
   "metadata": {},
   "outputs": [],
   "source": [
    "data[\"ggr_dep_ratio\"] = np.where(data[\"Avg Ggr\"] == 0, 0, data[\"Avg Dep\"]/data[\"Avg Ggr\"]) "
   ]
  },
  {
   "cell_type": "code",
   "execution_count": 45,
   "id": "83044f92",
   "metadata": {},
   "outputs": [
    {
     "data": {
      "text/html": [
       "<div>\n",
       "<style scoped>\n",
       "    .dataframe tbody tr th:only-of-type {\n",
       "        vertical-align: middle;\n",
       "    }\n",
       "\n",
       "    .dataframe tbody tr th {\n",
       "        vertical-align: top;\n",
       "    }\n",
       "\n",
       "    .dataframe thead th {\n",
       "        text-align: right;\n",
       "    }\n",
       "</style>\n",
       "<table border=\"1\" class=\"dataframe\">\n",
       "  <thead>\n",
       "    <tr style=\"text-align: right;\">\n",
       "      <th></th>\n",
       "      <th>User Id</th>\n",
       "      <th>AGE</th>\n",
       "      <th>Gender</th>\n",
       "      <th>Date Registered</th>\n",
       "      <th>First Active Date</th>\n",
       "      <th>Days Last Played</th>\n",
       "      <th>Days Last Act</th>\n",
       "      <th>Avg Dep</th>\n",
       "      <th>Avg Ggr</th>\n",
       "      <th>New United Vip Status</th>\n",
       "      <th>...</th>\n",
       "      <th>2020avg_ggr_count</th>\n",
       "      <th>2021avg_ggr_count</th>\n",
       "      <th>2020avg_de_count</th>\n",
       "      <th>2021avg_de_count</th>\n",
       "      <th>GGR_count</th>\n",
       "      <th>Dep Count</th>\n",
       "      <th>Churned</th>\n",
       "      <th>lifetime</th>\n",
       "      <th>player_win_lose</th>\n",
       "      <th>ggr_dep_ratio</th>\n",
       "    </tr>\n",
       "  </thead>\n",
       "  <tbody>\n",
       "  </tbody>\n",
       "</table>\n",
       "<p>0 rows × 26 columns</p>\n",
       "</div>"
      ],
      "text/plain": [
       "Empty DataFrame\n",
       "Columns: [User Id, AGE, Gender, Date Registered, First Active Date, Days Last Played, Days Last Act, Avg Dep, Avg Ggr, New United Vip Status, Self Blocked, Is Verified, 2020avg_de, 2021avg_de, 2020avg_ggr, 2021avg_ggr, 2020avg_ggr_count, 2021avg_ggr_count, 2020avg_de_count, 2021avg_de_count, GGR_count, Dep Count, Churned, lifetime, player_win_lose, ggr_dep_ratio]\n",
       "Index: []\n",
       "\n",
       "[0 rows x 26 columns]"
      ]
     },
     "execution_count": 45,
     "metadata": {},
     "output_type": "execute_result"
    }
   ],
   "source": [
    "data[data[\"User Id\"].isna()]"
   ]
  },
  {
   "cell_type": "code",
   "execution_count": 46,
   "id": "60cb58a0",
   "metadata": {},
   "outputs": [
    {
     "data": {
      "text/html": [
       "<div>\n",
       "<style scoped>\n",
       "    .dataframe tbody tr th:only-of-type {\n",
       "        vertical-align: middle;\n",
       "    }\n",
       "\n",
       "    .dataframe tbody tr th {\n",
       "        vertical-align: top;\n",
       "    }\n",
       "\n",
       "    .dataframe thead th {\n",
       "        text-align: right;\n",
       "    }\n",
       "</style>\n",
       "<table border=\"1\" class=\"dataframe\">\n",
       "  <thead>\n",
       "    <tr style=\"text-align: right;\">\n",
       "      <th></th>\n",
       "      <th>User Id</th>\n",
       "      <th>AGE</th>\n",
       "      <th>Gender</th>\n",
       "      <th>Date Registered</th>\n",
       "      <th>First Active Date</th>\n",
       "      <th>Days Last Played</th>\n",
       "      <th>Days Last Act</th>\n",
       "      <th>Avg Dep</th>\n",
       "      <th>Avg Ggr</th>\n",
       "      <th>New United Vip Status</th>\n",
       "      <th>...</th>\n",
       "      <th>2020avg_ggr_count</th>\n",
       "      <th>2021avg_ggr_count</th>\n",
       "      <th>2020avg_de_count</th>\n",
       "      <th>2021avg_de_count</th>\n",
       "      <th>GGR_count</th>\n",
       "      <th>Dep Count</th>\n",
       "      <th>Churned</th>\n",
       "      <th>lifetime</th>\n",
       "      <th>player_win_lose</th>\n",
       "      <th>ggr_dep_ratio</th>\n",
       "    </tr>\n",
       "  </thead>\n",
       "  <tbody>\n",
       "    <tr>\n",
       "      <th>0</th>\n",
       "      <td>1</td>\n",
       "      <td>51</td>\n",
       "      <td>Male</td>\n",
       "      <td>2020-01-01</td>\n",
       "      <td>2020-01-02</td>\n",
       "      <td>1</td>\n",
       "      <td>1</td>\n",
       "      <td>2269</td>\n",
       "      <td>626</td>\n",
       "      <td>Not_VIP</td>\n",
       "      <td>...</td>\n",
       "      <td>20.583333</td>\n",
       "      <td>16.30</td>\n",
       "      <td>19.583333</td>\n",
       "      <td>15.0</td>\n",
       "      <td>410.0</td>\n",
       "      <td>385.0</td>\n",
       "      <td>Yes</td>\n",
       "      <td>685 days</td>\n",
       "      <td>1</td>\n",
       "      <td>3.624601</td>\n",
       "    </tr>\n",
       "    <tr>\n",
       "      <th>4</th>\n",
       "      <td>5</td>\n",
       "      <td>25</td>\n",
       "      <td>Female</td>\n",
       "      <td>2020-01-01</td>\n",
       "      <td>2020-02-03</td>\n",
       "      <td>75</td>\n",
       "      <td>75</td>\n",
       "      <td>24</td>\n",
       "      <td>48</td>\n",
       "      <td>Not_VIP</td>\n",
       "      <td>...</td>\n",
       "      <td>1.500000</td>\n",
       "      <td>1.25</td>\n",
       "      <td>1.500000</td>\n",
       "      <td>1.0</td>\n",
       "      <td>8.0</td>\n",
       "      <td>7.0</td>\n",
       "      <td>No</td>\n",
       "      <td>685 days</td>\n",
       "      <td>1</td>\n",
       "      <td>0.500000</td>\n",
       "    </tr>\n",
       "  </tbody>\n",
       "</table>\n",
       "<p>2 rows × 26 columns</p>\n",
       "</div>"
      ],
      "text/plain": [
       "   User Id  AGE  Gender Date Registered First Active Date  Days Last Played  \\\n",
       "0        1   51    Male      2020-01-01        2020-01-02                 1   \n",
       "4        5   25  Female      2020-01-01        2020-02-03                75   \n",
       "\n",
       "   Days Last Act  Avg Dep  Avg Ggr New United Vip Status  ...  \\\n",
       "0              1     2269      626               Not_VIP  ...   \n",
       "4             75       24       48               Not_VIP  ...   \n",
       "\n",
       "  2020avg_ggr_count 2021avg_ggr_count  2020avg_de_count  2021avg_de_count  \\\n",
       "0         20.583333             16.30         19.583333              15.0   \n",
       "4          1.500000              1.25          1.500000               1.0   \n",
       "\n",
       "   GGR_count  Dep Count  Churned  lifetime  player_win_lose  ggr_dep_ratio  \n",
       "0      410.0      385.0      Yes  685 days                1       3.624601  \n",
       "4        8.0        7.0       No  685 days                1       0.500000  \n",
       "\n",
       "[2 rows x 26 columns]"
      ]
     },
     "execution_count": 46,
     "metadata": {},
     "output_type": "execute_result"
    }
   ],
   "source": [
    "data.head(2)"
   ]
  },
  {
   "cell_type": "code",
   "execution_count": 47,
   "id": "465e399f",
   "metadata": {},
   "outputs": [
    {
     "data": {
      "text/plain": [
       "array(['Not_VIP', 'POT PREMIUM', 'PREMIUM', 'PERSONAL SERVICE', 'SME'],\n",
       "      dtype=object)"
      ]
     },
     "execution_count": 47,
     "metadata": {},
     "output_type": "execute_result"
    }
   ],
   "source": [
    "data[\"New United Vip Status\"].unique()"
   ]
  },
  {
   "cell_type": "code",
   "execution_count": 48,
   "id": "d7c549b7",
   "metadata": {},
   "outputs": [],
   "source": [
    "data[\"New United Vip Status\"] = np.where(data[\"New United Vip Status\"] == \"Not_VIP\", 0, \n",
    "                                       np.where(data[\"New United Vip Status\"] == \"POT PREMIUM\", 1, \n",
    "                                      np.where(data[\"New United Vip Status\"] == \"PREMIUM\", 2,\n",
    "                                      np.where(data[\"New United Vip Status\"] == \"PERSONAL SERVICE\", 3,\n",
    "                                np.where(data[\"New United Vip Status\"] == \"SME\", 4, 0)))))"
   ]
  },
  {
   "cell_type": "code",
   "execution_count": 49,
   "id": "4a1f8578",
   "metadata": {},
   "outputs": [
    {
     "data": {
      "text/plain": [
       "array([0, 1, 2, 3, 4])"
      ]
     },
     "execution_count": 49,
     "metadata": {},
     "output_type": "execute_result"
    }
   ],
   "source": [
    "data[\"New United Vip Status\"].unique()"
   ]
  },
  {
   "cell_type": "code",
   "execution_count": 50,
   "id": "db73be25",
   "metadata": {},
   "outputs": [],
   "source": [
    "data['Self Blocked'] = np.where(data['Self Blocked'] == \"No\", 0, 1) "
   ]
  },
  {
   "cell_type": "code",
   "execution_count": 51,
   "id": "afdab7e1",
   "metadata": {},
   "outputs": [
    {
     "data": {
      "text/plain": [
       "array([0, 1])"
      ]
     },
     "execution_count": 51,
     "metadata": {},
     "output_type": "execute_result"
    }
   ],
   "source": [
    "data['Self Blocked'].unique()"
   ]
  },
  {
   "cell_type": "code",
   "execution_count": 52,
   "id": "e6d8c6c0",
   "metadata": {},
   "outputs": [
    {
     "data": {
      "text/plain": [
       "array(['Male', 'Female'], dtype=object)"
      ]
     },
     "execution_count": 52,
     "metadata": {},
     "output_type": "execute_result"
    }
   ],
   "source": [
    "data['Gender'].unique()"
   ]
  },
  {
   "cell_type": "code",
   "execution_count": 53,
   "id": "3d9a3cc4",
   "metadata": {},
   "outputs": [],
   "source": [
    "# data['Gender'] = np.where(data['Gender'] == \"Male\", 1, 0) "
   ]
  },
  {
   "cell_type": "code",
   "execution_count": 54,
   "id": "21f61396",
   "metadata": {},
   "outputs": [
    {
     "data": {
      "text/plain": [
       "Index(['User Id', 'AGE', 'Gender', 'Date Registered', 'First Active Date',\n",
       "       'Days Last Played', 'Days Last Act', 'Avg Dep', 'Avg Ggr',\n",
       "       'New United Vip Status', 'Self Blocked', 'Is Verified', '2020avg_de',\n",
       "       '2021avg_de', '2020avg_ggr', '2021avg_ggr', '2020avg_ggr_count',\n",
       "       '2021avg_ggr_count', '2020avg_de_count', '2021avg_de_count',\n",
       "       'GGR_count', 'Dep Count', 'Churned', 'lifetime', 'player_win_lose',\n",
       "       'ggr_dep_ratio'],\n",
       "      dtype='object')"
      ]
     },
     "execution_count": 54,
     "metadata": {},
     "output_type": "execute_result"
    }
   ],
   "source": [
    "data.columns"
   ]
  },
  {
   "cell_type": "code",
   "execution_count": 55,
   "id": "699f9bdf",
   "metadata": {},
   "outputs": [
    {
     "data": {
      "text/html": [
       "<div>\n",
       "<style scoped>\n",
       "    .dataframe tbody tr th:only-of-type {\n",
       "        vertical-align: middle;\n",
       "    }\n",
       "\n",
       "    .dataframe tbody tr th {\n",
       "        vertical-align: top;\n",
       "    }\n",
       "\n",
       "    .dataframe thead th {\n",
       "        text-align: right;\n",
       "    }\n",
       "</style>\n",
       "<table border=\"1\" class=\"dataframe\">\n",
       "  <thead>\n",
       "    <tr style=\"text-align: right;\">\n",
       "      <th></th>\n",
       "      <th>User Id</th>\n",
       "      <th>AGE</th>\n",
       "      <th>Gender</th>\n",
       "      <th>Date Registered</th>\n",
       "      <th>First Active Date</th>\n",
       "      <th>Days Last Played</th>\n",
       "      <th>Days Last Act</th>\n",
       "      <th>Avg Dep</th>\n",
       "      <th>Avg Ggr</th>\n",
       "      <th>New United Vip Status</th>\n",
       "      <th>...</th>\n",
       "      <th>2020avg_ggr_count</th>\n",
       "      <th>2021avg_ggr_count</th>\n",
       "      <th>2020avg_de_count</th>\n",
       "      <th>2021avg_de_count</th>\n",
       "      <th>GGR_count</th>\n",
       "      <th>Dep Count</th>\n",
       "      <th>Churned</th>\n",
       "      <th>lifetime</th>\n",
       "      <th>player_win_lose</th>\n",
       "      <th>ggr_dep_ratio</th>\n",
       "    </tr>\n",
       "  </thead>\n",
       "  <tbody>\n",
       "  </tbody>\n",
       "</table>\n",
       "<p>0 rows × 26 columns</p>\n",
       "</div>"
      ],
      "text/plain": [
       "Empty DataFrame\n",
       "Columns: [User Id, AGE, Gender, Date Registered, First Active Date, Days Last Played, Days Last Act, Avg Dep, Avg Ggr, New United Vip Status, Self Blocked, Is Verified, 2020avg_de, 2021avg_de, 2020avg_ggr, 2021avg_ggr, 2020avg_ggr_count, 2021avg_ggr_count, 2020avg_de_count, 2021avg_de_count, GGR_count, Dep Count, Churned, lifetime, player_win_lose, ggr_dep_ratio]\n",
       "Index: []\n",
       "\n",
       "[0 rows x 26 columns]"
      ]
     },
     "execution_count": 55,
     "metadata": {},
     "output_type": "execute_result"
    }
   ],
   "source": [
    "data[data[\"User Id\"].isna()]"
   ]
  },
  {
   "cell_type": "code",
   "execution_count": 56,
   "id": "a5bc7ebb",
   "metadata": {},
   "outputs": [],
   "source": [
    "data['Is Verified'] = np.where(data['Is Verified'] == \"No\", 0, 1) "
   ]
  },
  {
   "cell_type": "code",
   "execution_count": 57,
   "id": "2af65540",
   "metadata": {},
   "outputs": [
    {
     "data": {
      "text/plain": [
       "array([1, 0])"
      ]
     },
     "execution_count": 57,
     "metadata": {},
     "output_type": "execute_result"
    }
   ],
   "source": [
    "data['Is Verified'].unique()"
   ]
  },
  {
   "cell_type": "code",
   "execution_count": 58,
   "id": "623984e4",
   "metadata": {},
   "outputs": [],
   "source": [
    "data[\"Days Last Played\"] = np.where(data[\"Days Last Played\"] == -1, 0, data[\"Days Last Played\"]) "
   ]
  },
  {
   "cell_type": "code",
   "execution_count": 59,
   "id": "3d256cff",
   "metadata": {},
   "outputs": [],
   "source": [
    "data[\"Days Last Act\"] = np.where(data[\"Days Last Act\"] == -1, 0, data[\"Days Last Act\"]) "
   ]
  },
  {
   "cell_type": "code",
   "execution_count": 60,
   "id": "ab74b97a",
   "metadata": {},
   "outputs": [
    {
     "data": {
      "text/plain": [
       "0"
      ]
     },
     "execution_count": 60,
     "metadata": {},
     "output_type": "execute_result"
    }
   ],
   "source": [
    "data[\"Days Last Played\"].min()"
   ]
  },
  {
   "cell_type": "code",
   "execution_count": 61,
   "id": "fb3f7e2c",
   "metadata": {},
   "outputs": [
    {
     "data": {
      "text/plain": [
       "0"
      ]
     },
     "execution_count": 61,
     "metadata": {},
     "output_type": "execute_result"
    }
   ],
   "source": [
    "data[\"Days Last Act\"].min()"
   ]
  },
  {
   "cell_type": "code",
   "execution_count": 62,
   "id": "490bf8a5",
   "metadata": {},
   "outputs": [
    {
     "data": {
      "text/html": [
       "<div>\n",
       "<style scoped>\n",
       "    .dataframe tbody tr th:only-of-type {\n",
       "        vertical-align: middle;\n",
       "    }\n",
       "\n",
       "    .dataframe tbody tr th {\n",
       "        vertical-align: top;\n",
       "    }\n",
       "\n",
       "    .dataframe thead th {\n",
       "        text-align: right;\n",
       "    }\n",
       "</style>\n",
       "<table border=\"1\" class=\"dataframe\">\n",
       "  <thead>\n",
       "    <tr style=\"text-align: right;\">\n",
       "      <th></th>\n",
       "      <th>User Id</th>\n",
       "      <th>AGE</th>\n",
       "      <th>Gender</th>\n",
       "      <th>Date Registered</th>\n",
       "      <th>First Active Date</th>\n",
       "      <th>Days Last Played</th>\n",
       "      <th>Days Last Act</th>\n",
       "      <th>Avg Dep</th>\n",
       "      <th>Avg Ggr</th>\n",
       "      <th>New United Vip Status</th>\n",
       "      <th>...</th>\n",
       "      <th>2020avg_ggr_count</th>\n",
       "      <th>2021avg_ggr_count</th>\n",
       "      <th>2020avg_de_count</th>\n",
       "      <th>2021avg_de_count</th>\n",
       "      <th>GGR_count</th>\n",
       "      <th>Dep Count</th>\n",
       "      <th>Churned</th>\n",
       "      <th>lifetime</th>\n",
       "      <th>player_win_lose</th>\n",
       "      <th>ggr_dep_ratio</th>\n",
       "    </tr>\n",
       "  </thead>\n",
       "  <tbody>\n",
       "  </tbody>\n",
       "</table>\n",
       "<p>0 rows × 26 columns</p>\n",
       "</div>"
      ],
      "text/plain": [
       "Empty DataFrame\n",
       "Columns: [User Id, AGE, Gender, Date Registered, First Active Date, Days Last Played, Days Last Act, Avg Dep, Avg Ggr, New United Vip Status, Self Blocked, Is Verified, 2020avg_de, 2021avg_de, 2020avg_ggr, 2021avg_ggr, 2020avg_ggr_count, 2021avg_ggr_count, 2020avg_de_count, 2021avg_de_count, GGR_count, Dep Count, Churned, lifetime, player_win_lose, ggr_dep_ratio]\n",
       "Index: []\n",
       "\n",
       "[0 rows x 26 columns]"
      ]
     },
     "execution_count": 62,
     "metadata": {},
     "output_type": "execute_result"
    }
   ],
   "source": [
    "data[data[\"User Id\"].isna()]"
   ]
  },
  {
   "cell_type": "code",
   "execution_count": 63,
   "id": "479f52f3",
   "metadata": {},
   "outputs": [],
   "source": [
    "##bbb[\"YoY_GGR\"] = np.where( (bbb[\"2021avg_de\"] == 0) or (bbb[\"2020avg_de\"] == 0), max(bbb[\"2021avg_de\"], bbb[\"2020avg_de\"]),\n",
    "  ##                        (bbb[\"2021avg_de\"]+bbb[\"2020avg_de\"])/2 )"
   ]
  },
  {
   "cell_type": "code",
   "execution_count": 64,
   "id": "73223d32",
   "metadata": {},
   "outputs": [],
   "source": [
    "# (bbb[\"2021avg_de\"] == 0) | (bbb[\"2020avg_de\"] == 0)"
   ]
  },
  {
   "cell_type": "code",
   "execution_count": 65,
   "id": "145b639b",
   "metadata": {},
   "outputs": [],
   "source": [
    "## bbb[\"YoY_GGR\"] = np.where( (bbb[\"2021avg_de\"] == 0) | (bbb[\"2020avg_de\"] == 0), \n",
    "   ##                       np.nanmax(bbb[\"2021avg_de\"], bbb[\"2020avg_de\"]), 0)"
   ]
  },
  {
   "cell_type": "code",
   "execution_count": 66,
   "id": "f2b3a80a",
   "metadata": {},
   "outputs": [],
   "source": [
    "#c = data.head(100)"
   ]
  },
  {
   "cell_type": "markdown",
   "id": "9fa8b321",
   "metadata": {},
   "source": [
    "#### we need this ... just need to find all the 0 categories (0, 0.0, nan, etc) \n"
   ]
  },
  {
   "cell_type": "code",
   "execution_count": 67,
   "id": "3cfba10c",
   "metadata": {},
   "outputs": [],
   "source": [
    "# for i in c[\"2021avg_de\"]: \n",
    "  #  for j in c[\"2021avg_de\"]:\n",
    "   #     c.loc[i, \"avg_2020_2021\"] = np.where(i==0.0 or j==0.0, max(i,j), (i+j)/2 ) "
   ]
  },
  {
   "cell_type": "code",
   "execution_count": 68,
   "id": "cbab3a31",
   "metadata": {},
   "outputs": [],
   "source": [
    "# for i in a[\"2021avg_de\"]: \n",
    "  #  for j in a[\"2020avg_de\"]:\n",
    "   #     a.loc[i, \"avg_2020_2021\"] = np.where(i==0.0 or j==0.0, max(i,j), np.where(i>0 and j>0, (i+j)/2 , max(i,j))) "
   ]
  },
  {
   "cell_type": "code",
   "execution_count": 69,
   "id": "dc22d4f6",
   "metadata": {},
   "outputs": [],
   "source": [
    "#for i in data[\"2021avg_de\"]: \n",
    " #   for j in data[\"2020avg_de\"]:\n",
    "  #      data.loc[i, \"avg_2020_2021\"] = np.where(i==0.0 or j==0.0, max(i,j), (i+j)/2 ) "
   ]
  },
  {
   "cell_type": "code",
   "execution_count": 70,
   "id": "8ae830af",
   "metadata": {},
   "outputs": [
    {
     "data": {
      "text/plain": [
       "array(['Yes', 'No'], dtype=object)"
      ]
     },
     "execution_count": 70,
     "metadata": {},
     "output_type": "execute_result"
    }
   ],
   "source": [
    "data[\"Churned\"].unique()"
   ]
  },
  {
   "cell_type": "code",
   "execution_count": 71,
   "id": "a26f1f78",
   "metadata": {},
   "outputs": [
    {
     "data": {
      "text/plain": [
       "0"
      ]
     },
     "execution_count": 71,
     "metadata": {},
     "output_type": "execute_result"
    }
   ],
   "source": [
    "data[\"Churned\"].isna().sum()"
   ]
  },
  {
   "cell_type": "code",
   "execution_count": 72,
   "id": "df7b05df",
   "metadata": {},
   "outputs": [
    {
     "data": {
      "text/plain": [
       "0"
      ]
     },
     "execution_count": 72,
     "metadata": {},
     "output_type": "execute_result"
    }
   ],
   "source": [
    "data[\"User Id\"].isna().sum()"
   ]
  },
  {
   "cell_type": "code",
   "execution_count": 73,
   "id": "c21efc7a",
   "metadata": {},
   "outputs": [
    {
     "data": {
      "text/html": [
       "<div>\n",
       "<style scoped>\n",
       "    .dataframe tbody tr th:only-of-type {\n",
       "        vertical-align: middle;\n",
       "    }\n",
       "\n",
       "    .dataframe tbody tr th {\n",
       "        vertical-align: top;\n",
       "    }\n",
       "\n",
       "    .dataframe thead th {\n",
       "        text-align: right;\n",
       "    }\n",
       "</style>\n",
       "<table border=\"1\" class=\"dataframe\">\n",
       "  <thead>\n",
       "    <tr style=\"text-align: right;\">\n",
       "      <th></th>\n",
       "      <th>User Id</th>\n",
       "      <th>AGE</th>\n",
       "      <th>Gender</th>\n",
       "      <th>Date Registered</th>\n",
       "      <th>First Active Date</th>\n",
       "      <th>Days Last Played</th>\n",
       "      <th>Days Last Act</th>\n",
       "      <th>Avg Dep</th>\n",
       "      <th>Avg Ggr</th>\n",
       "      <th>New United Vip Status</th>\n",
       "      <th>...</th>\n",
       "      <th>2020avg_ggr_count</th>\n",
       "      <th>2021avg_ggr_count</th>\n",
       "      <th>2020avg_de_count</th>\n",
       "      <th>2021avg_de_count</th>\n",
       "      <th>GGR_count</th>\n",
       "      <th>Dep Count</th>\n",
       "      <th>Churned</th>\n",
       "      <th>lifetime</th>\n",
       "      <th>player_win_lose</th>\n",
       "      <th>ggr_dep_ratio</th>\n",
       "    </tr>\n",
       "  </thead>\n",
       "  <tbody>\n",
       "  </tbody>\n",
       "</table>\n",
       "<p>0 rows × 26 columns</p>\n",
       "</div>"
      ],
      "text/plain": [
       "Empty DataFrame\n",
       "Columns: [User Id, AGE, Gender, Date Registered, First Active Date, Days Last Played, Days Last Act, Avg Dep, Avg Ggr, New United Vip Status, Self Blocked, Is Verified, 2020avg_de, 2021avg_de, 2020avg_ggr, 2021avg_ggr, 2020avg_ggr_count, 2021avg_ggr_count, 2020avg_de_count, 2021avg_de_count, GGR_count, Dep Count, Churned, lifetime, player_win_lose, ggr_dep_ratio]\n",
       "Index: []\n",
       "\n",
       "[0 rows x 26 columns]"
      ]
     },
     "execution_count": 73,
     "metadata": {},
     "output_type": "execute_result"
    }
   ],
   "source": [
    "data[data[\"Churned\"].isna()]"
   ]
  },
  {
   "cell_type": "code",
   "execution_count": 74,
   "id": "a0f3ce9d",
   "metadata": {},
   "outputs": [],
   "source": [
    "data[\"Churned\"] = np.where(data[\"Churned\"] == \"Yes\", 1, 0) "
   ]
  },
  {
   "cell_type": "code",
   "execution_count": 75,
   "id": "83333e4f",
   "metadata": {},
   "outputs": [
    {
     "data": {
      "text/plain": [
       "Index(['User Id', 'AGE', 'Gender', 'Date Registered', 'First Active Date',\n",
       "       'Days Last Played', 'Days Last Act', 'Avg Dep', 'Avg Ggr',\n",
       "       'New United Vip Status', 'Self Blocked', 'Is Verified', '2020avg_de',\n",
       "       '2021avg_de', '2020avg_ggr', '2021avg_ggr', '2020avg_ggr_count',\n",
       "       '2021avg_ggr_count', '2020avg_de_count', '2021avg_de_count',\n",
       "       'GGR_count', 'Dep Count', 'Churned', 'lifetime', 'player_win_lose',\n",
       "       'ggr_dep_ratio'],\n",
       "      dtype='object')"
      ]
     },
     "execution_count": 75,
     "metadata": {},
     "output_type": "execute_result"
    }
   ],
   "source": [
    "data.columns"
   ]
  },
  {
   "cell_type": "code",
   "execution_count": 76,
   "id": "0aa0acbd",
   "metadata": {},
   "outputs": [
    {
     "data": {
      "text/plain": [
       "User Id                  0\n",
       "AGE                      0\n",
       "Gender                   0\n",
       "Date Registered          0\n",
       "First Active Date        0\n",
       "Days Last Played         0\n",
       "Days Last Act            0\n",
       "Avg Dep                  0\n",
       "Avg Ggr                  0\n",
       "New United Vip Status    0\n",
       "Self Blocked             0\n",
       "Is Verified              0\n",
       "2020avg_de               0\n",
       "2021avg_de               0\n",
       "2020avg_ggr              0\n",
       "2021avg_ggr              0\n",
       "2020avg_ggr_count        0\n",
       "2021avg_ggr_count        0\n",
       "2020avg_de_count         0\n",
       "2021avg_de_count         0\n",
       "GGR_count                0\n",
       "Dep Count                0\n",
       "Churned                  0\n",
       "lifetime                 0\n",
       "player_win_lose          0\n",
       "ggr_dep_ratio            0\n",
       "dtype: int64"
      ]
     },
     "execution_count": 76,
     "metadata": {},
     "output_type": "execute_result"
    }
   ],
   "source": [
    "data.isna().sum()"
   ]
  },
  {
   "cell_type": "markdown",
   "id": "39ff0683",
   "metadata": {},
   "source": [
    "### Deleting unnecessary rows "
   ]
  },
  {
   "cell_type": "code",
   "execution_count": 77,
   "id": "e17077be",
   "metadata": {},
   "outputs": [
    {
     "data": {
      "text/plain": [
       "248"
      ]
     },
     "execution_count": 77,
     "metadata": {},
     "output_type": "execute_result"
    }
   ],
   "source": [
    "data[\"AGE\"].max()"
   ]
  },
  {
   "cell_type": "code",
   "execution_count": 78,
   "id": "75f72e0b",
   "metadata": {},
   "outputs": [],
   "source": [
    "data.drop(data[data[\"AGE\"]==248].index, inplace = True)"
   ]
  },
  {
   "cell_type": "code",
   "execution_count": 79,
   "id": "34defec8",
   "metadata": {},
   "outputs": [
    {
     "data": {
      "text/plain": [
       "99"
      ]
     },
     "execution_count": 79,
     "metadata": {},
     "output_type": "execute_result"
    }
   ],
   "source": [
    "data[\"AGE\"].max()"
   ]
  },
  {
   "cell_type": "code",
   "execution_count": 80,
   "id": "bd6f1990",
   "metadata": {},
   "outputs": [
    {
     "data": {
      "text/plain": [
       "-1"
      ]
     },
     "execution_count": 80,
     "metadata": {},
     "output_type": "execute_result"
    }
   ],
   "source": [
    "data[\"AGE\"].min()"
   ]
  },
  {
   "cell_type": "code",
   "execution_count": 81,
   "id": "0d4abd61",
   "metadata": {},
   "outputs": [],
   "source": [
    "data.drop(data[data[\"AGE\"]==-1].index, inplace = True)"
   ]
  },
  {
   "cell_type": "code",
   "execution_count": 82,
   "id": "19aa756b",
   "metadata": {},
   "outputs": [
    {
     "data": {
      "text/plain": [
       "21"
      ]
     },
     "execution_count": 82,
     "metadata": {},
     "output_type": "execute_result"
    }
   ],
   "source": [
    "data[\"AGE\"].min()"
   ]
  },
  {
   "cell_type": "code",
   "execution_count": 83,
   "id": "82ed32e7",
   "metadata": {},
   "outputs": [
    {
     "name": "stderr",
     "output_type": "stream",
     "text": [
      "C:\\Users\\User\\anaconda3\\desktop\\lib\\site-packages\\seaborn\\distributions.py:2557: FutureWarning:\n",
      "\n",
      "`distplot` is a deprecated function and will be removed in a future version. Please adapt your code to use either `displot` (a figure-level function with similar flexibility) or `histplot` (an axes-level function for histograms).\n",
      "\n"
     ]
    },
    {
     "data": {
      "text/plain": [
       "<AxesSubplot:title={'center':'AGE Distribution'}, xlabel='AGE', ylabel='Density'>"
      ]
     },
     "execution_count": 83,
     "metadata": {},
     "output_type": "execute_result"
    },
    {
     "data": {
      "image/png": "[encoded data removed]",
      "text/plain": [
       "<Figure size 720x504 with 1 Axes>"
      ]
     },
     "metadata": {
      "needs_background": "light"
     },
     "output_type": "display_data"
    }
   ],
   "source": [
    "plt.figure(figsize = (10,7))\n",
    "plt.title(\"AGE Distribution\",fontsize = 15, color = 'darkblue') \n",
    "sns.distplot(data.AGE, hist=True, kde=True, \n",
    "             bins=int(180/5), color = 'darkblue', \n",
    "             hist_kws={'edgecolor':'black'},\n",
    "             kde_kws={'linewidth': 4})"
   ]
  },
  {
   "cell_type": "code",
   "execution_count": 84,
   "id": "247a1fff",
   "metadata": {},
   "outputs": [
    {
     "data": {
      "image/png": "[encoded data removed]",
      "text/plain": [
       "<Figure size 720x504 with 1 Axes>"
      ]
     },
     "metadata": {
      "needs_background": "light"
     },
     "output_type": "display_data"
    }
   ],
   "source": [
    "plt.figure(figsize = (10,7))\n",
    "\n",
    "plt.scatter(data[\"AGE\"], data[\"Avg Dep\"], color = 'darkblue')\n",
    "plt.show()"
   ]
  },
  {
   "cell_type": "code",
   "execution_count": 86,
   "id": "5273a998",
   "metadata": {},
   "outputs": [
    {
     "data": {
      "text/plain": [
       "Index(['User Id', 'AGE', 'Gender', 'Date Registered', 'First Active Date',\n",
       "       'Days Last Played', 'Days Last Act', 'Avg Dep', 'Avg Ggr',\n",
       "       'New United Vip Status', 'Self Blocked', 'Is Verified', '2020avg_de',\n",
       "       '2021avg_de', '2020avg_ggr', '2021avg_ggr', '2020avg_ggr_count',\n",
       "       '2021avg_ggr_count', '2020avg_de_count', '2021avg_de_count',\n",
       "       'GGR_count', 'Dep Count', 'Churned', 'lifetime', 'player_win_lose',\n",
       "       'ggr_dep_ratio'],\n",
       "      dtype='object')"
      ]
     },
     "execution_count": 86,
     "metadata": {},
     "output_type": "execute_result"
    }
   ],
   "source": [
    "data.columns"
   ]
  },
  {
   "cell_type": "code",
   "execution_count": 87,
   "id": "6cfb4813",
   "metadata": {},
   "outputs": [],
   "source": [
    "data['AVG_de'] = (data['2021avg_de'] + data['2020avg_de'])/2"
   ]
  },
  {
   "cell_type": "code",
   "execution_count": 88,
   "id": "99adbbc7",
   "metadata": {},
   "outputs": [
    {
     "data": {
      "text/plain": [
       "0        2808.491667\n",
       "4           6.000000\n",
       "5          33.729167\n",
       "7           2.750000\n",
       "8          36.452381\n",
       "            ...     \n",
       "25460       0.500000\n",
       "25461      25.000000\n",
       "25468      14.500000\n",
       "25469      42.500000\n",
       "25470       1.500000\n",
       "Name: AVG_de, Length: 17456, dtype: float64"
      ]
     },
     "execution_count": 88,
     "metadata": {},
     "output_type": "execute_result"
    }
   ],
   "source": [
    "data['AVG_de']"
   ]
  },
  {
   "cell_type": "code",
   "execution_count": 89,
   "id": "8f518439",
   "metadata": {},
   "outputs": [
    {
     "data": {
      "image/png": "[encoded data removed]",
      "text/plain": [
       "<Figure size 432x288 with 1 Axes>"
      ]
     },
     "metadata": {
      "needs_background": "light"
     },
     "output_type": "display_data"
    }
   ],
   "source": [
    "#for comparing Final grade with categorical variables it represented in boxplot\n",
    "#We can see difference in final grades by address,Fjob teacher level,Mjob at health level,internet, schoolsup,higher.\n",
    "sns.boxplot(data=data, x=\"Gender\", y=\"AGE\", showmeans=True, palette='cool')\n",
    "plt.show()"
   ]
  },
  {
   "cell_type": "code",
   "execution_count": 90,
   "id": "82c44dd4",
   "metadata": {},
   "outputs": [
    {
     "data": {
      "image/png": "[encoded data removed]",
      "text/plain": [
       "<Figure size 720x504 with 1 Axes>"
      ]
     },
     "metadata": {
      "needs_background": "light"
     },
     "output_type": "display_data"
    }
   ],
   "source": [
    "## work on the graph... change it \n",
    "\n",
    "\n",
    "plt.figure(figsize = (10,7))\n",
    "colors = np.random.rand(17456)\n",
    "sns.scatterplot(data=data, y=\"AVG_de\", x=\"Dep Count\", size=\"New United Vip Status\", \n",
    "                legend=True, sizes=(20, 1000), c=colors, alpha=0.6)\n",
    "plt.legend( prop={\"size\":20})\n",
    "# show the graph\n",
    "## work on the graph... change it \n",
    "plt.show()"
   ]
  },
  {
   "cell_type": "code",
   "execution_count": 91,
   "id": "8d1b1850",
   "metadata": {},
   "outputs": [
    {
     "name": "stderr",
     "output_type": "stream",
     "text": [
      "No handles with labels found to put in legend.\n"
     ]
    },
    {
     "data": {
      "image/png": "[encoded data removed]",
      "text/plain": [
       "<Figure size 720x504 with 1 Axes>"
      ]
     },
     "metadata": {
      "needs_background": "light"
     },
     "output_type": "display_data"
    }
   ],
   "source": [
    "\n",
    "\n",
    "plt.figure(figsize = (10,7))\n",
    "colors = np.random.rand(17456)\n",
    "sns.scatterplot(data=data, x=\"Dep Count\", y=\"New United Vip Status\", \n",
    "                legend=True, sizes=(20, 1000), c=colors, alpha=0.6)\n",
    "plt.legend( prop={\"size\":20})\n",
    "# show the graph\n",
    "plt.show()"
   ]
  },
  {
   "cell_type": "code",
   "execution_count": 92,
   "id": "77dc969f",
   "metadata": {},
   "outputs": [
    {
     "name": "stderr",
     "output_type": "stream",
     "text": [
      "No handles with labels found to put in legend.\n"
     ]
    },
    {
     "data": {
      "image/png": "[encoded data removed]",
      "text/plain": [
       "<Figure size 720x504 with 1 Axes>"
      ]
     },
     "metadata": {
      "needs_background": "light"
     },
     "output_type": "display_data"
    }
   ],
   "source": [
    "## work on the graph... change it \n",
    "\n",
    "\n",
    "plt.figure(figsize = (10,7))\n",
    "colors = np.random.rand(17456)\n",
    "sns.scatterplot(data=data, y=\"AVG_de\", x=\"New United Vip Status\", \n",
    "                legend=True, sizes=(20, 1000), c=colors, alpha=0.6)\n",
    "plt.legend( prop={\"size\":20})\n",
    "# show the graph\n",
    "plt.show()"
   ]
  },
  {
   "cell_type": "code",
   "execution_count": 93,
   "id": "1bbe4785",
   "metadata": {},
   "outputs": [
    {
     "data": {
      "image/png": "[encoded data removed]",
      "text/plain": [
       "<Figure size 432x288 with 1 Axes>"
      ]
     },
     "metadata": {
      "needs_background": "light"
     },
     "output_type": "display_data"
    }
   ],
   "source": [
    "#for comparing Final grade with categorical variables it represented in boxplot\n",
    "#We can see difference in final grades by address,Fjob teacher level,Mjob at health level,internet, schoolsup,higher.\n",
    "sns.boxplot(data=data, x=\"Churned\", y=\"AGE\", showmeans=True, palette='cool')\n",
    "plt.show()"
   ]
  },
  {
   "cell_type": "code",
   "execution_count": 94,
   "id": "c23e4586",
   "metadata": {},
   "outputs": [],
   "source": [
    "data_num = data.select_dtypes(exclude = [\"object\"])\n",
    "data_obj = data.select_dtypes(include = [\"object\"])"
   ]
  },
  {
   "cell_type": "code",
   "execution_count": 95,
   "id": "d0315ba2",
   "metadata": {},
   "outputs": [
    {
     "data": {
      "text/plain": [
       "Index(['Gender'], dtype='object')"
      ]
     },
     "execution_count": 95,
     "metadata": {},
     "output_type": "execute_result"
    }
   ],
   "source": [
    "data_obj.columns"
   ]
  },
  {
   "cell_type": "code",
   "execution_count": 96,
   "id": "50423d8a",
   "metadata": {},
   "outputs": [
    {
     "data": {
      "text/plain": [
       "<AxesSubplot:>"
      ]
     },
     "execution_count": 96,
     "metadata": {},
     "output_type": "execute_result"
    },
    {
     "data": {
      "image/png": "[encoded data removed]",
      "text/plain": [
       "<Figure size 864x576 with 2 Axes>"
      ]
     },
     "metadata": {
      "needs_background": "light"
     },
     "output_type": "display_data"
    }
   ],
   "source": [
    "plt.figure(figsize = (12,8))\n",
    "sns.heatmap(data_num.corr().abs().round(2), annot =True, cmap=\"BuPu\")"
   ]
  },
  {
   "cell_type": "code",
   "execution_count": 97,
   "id": "d36a6cad",
   "metadata": {},
   "outputs": [],
   "source": [
    "#plt.figure(figsize = (6,4))\n",
    "#sns.pairplot(data_num)\n",
    "\n",
    "\n",
    "# Visual representation of pairwise relationships\n",
    "# The plot is made to see the highest correlated variables with the Churn"
   ]
  },
  {
   "cell_type": "code",
   "execution_count": 99,
   "id": "7356884d",
   "metadata": {},
   "outputs": [
    {
     "name": "stdout",
     "output_type": "stream",
     "text": [
      "<class 'pandas.core.frame.DataFrame'>\n",
      "Int64Index: 17456 entries, 0 to 25470\n",
      "Data columns (total 27 columns):\n",
      " #   Column                 Non-Null Count  Dtype          \n",
      "---  ------                 --------------  -----          \n",
      " 0   User Id                17456 non-null  int64          \n",
      " 1   AGE                    17456 non-null  int64          \n",
      " 2   Gender                 17456 non-null  object         \n",
      " 3   Date Registered        17456 non-null  datetime64[ns] \n",
      " 4   First Active Date      17456 non-null  datetime64[ns] \n",
      " 5   Days Last Played       17456 non-null  int64          \n",
      " 6   Days Last Act          17456 non-null  int64          \n",
      " 7   Avg Dep                17456 non-null  int64          \n",
      " 8   Avg Ggr                17456 non-null  int64          \n",
      " 9   New United Vip Status  17456 non-null  int32          \n",
      " 10  Self Blocked           17456 non-null  int32          \n",
      " 11  Is Verified            17456 non-null  int32          \n",
      " 12  2020avg_de             17456 non-null  float64        \n",
      " 13  2021avg_de             17456 non-null  float64        \n",
      " 14  2020avg_ggr            17456 non-null  float64        \n",
      " 15  2021avg_ggr            17456 non-null  float64        \n",
      " 16  2020avg_ggr_count      17456 non-null  float64        \n",
      " 17  2021avg_ggr_count      17456 non-null  float64        \n",
      " 18  2020avg_de_count       17456 non-null  float64        \n",
      " 19  2021avg_de_count       17456 non-null  float64        \n",
      " 20  GGR_count              17456 non-null  float64        \n",
      " 21  Dep Count              17456 non-null  float64        \n",
      " 22  Churned                17456 non-null  int32          \n",
      " 23  lifetime               17456 non-null  timedelta64[ns]\n",
      " 24  player_win_lose        17456 non-null  int32          \n",
      " 25  ggr_dep_ratio          17456 non-null  float64        \n",
      " 26  AVG_de                 17456 non-null  float64        \n",
      "dtypes: datetime64[ns](2), float64(12), int32(5), int64(6), object(1), timedelta64[ns](1)\n",
      "memory usage: 3.9+ MB\n"
     ]
    }
   ],
   "source": [
    "data.info()"
   ]
  },
  {
   "cell_type": "code",
   "execution_count": null,
   "id": "14f46bf2",
   "metadata": {},
   "outputs": [],
   "source": []
  },
  {
   "cell_type": "code",
   "execution_count": null,
   "id": "27704997",
   "metadata": {},
   "outputs": [],
   "source": []
  },
  {
   "cell_type": "code",
   "execution_count": null,
   "id": "d0d381ea",
   "metadata": {},
   "outputs": [],
   "source": []
  },
  {
   "cell_type": "code",
   "execution_count": null,
   "id": "c657000d",
   "metadata": {},
   "outputs": [],
   "source": []
  },
  {
   "cell_type": "code",
   "execution_count": null,
   "id": "f0739d3e",
   "metadata": {},
   "outputs": [],
   "source": []
  },
  {
   "cell_type": "code",
   "execution_count": null,
   "id": "6bc2c5ee",
   "metadata": {},
   "outputs": [],
   "source": []
  },
  {
   "cell_type": "code",
   "execution_count": null,
   "id": "87fca525",
   "metadata": {},
   "outputs": [],
   "source": []
  },
  {
   "cell_type": "code",
   "execution_count": null,
   "id": "b1069c3a",
   "metadata": {},
   "outputs": [],
   "source": []
  }
 ],
 "metadata": {
  "kernelspec": {
   "display_name": "Python 3",
   "language": "python",
   "name": "python3"
  },
  "language_info": {
   "codemirror_mode": {
    "name": "ipython",
    "version": 3
   },
   "file_extension": ".py",
   "mimetype": "text/x-python",
   "name": "python",
   "nbconvert_exporter": "python",
   "pygments_lexer": "ipython3",
   "version": "3.8.8"
  }
 },
 "nbformat": 4,
 "nbformat_minor": 5
}
